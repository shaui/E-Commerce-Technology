{
  "nbformat": 4,
  "nbformat_minor": 0,
  "metadata": {
    "colab": {
      "name": "ECT_HW9_106403540_v1.ipynb",
      "provenance": [],
      "collapsed_sections": []
    },
    "kernelspec": {
      "name": "python3",
      "display_name": "Python 3"
    },
    "accelerator": "GPU"
  },
  "cells": [
    {
      "cell_type": "code",
      "metadata": {
        "id": "aZ4-KknAGMkl",
        "colab_type": "code",
        "colab": {
          "base_uri": "https://localhost:8080/",
          "height": 34
        },
        "outputId": "db9fe6e5-7044-4972-f364-e9f8b70f4b89"
      },
      "source": [
        "%tensorflow_version 1.x"
      ],
      "execution_count": null,
      "outputs": [
        {
          "output_type": "stream",
          "text": [
            "TensorFlow 1.x selected.\n"
          ],
          "name": "stdout"
        }
      ]
    },
    {
      "cell_type": "code",
      "metadata": {
        "id": "FdbGteHJdg7n",
        "colab_type": "code",
        "colab": {
          "base_uri": "https://localhost:8080/",
          "height": 170
        },
        "outputId": "64fc96a7-39d0-43c4-fe1e-36a37dcad90d"
      },
      "source": [
        "from keras.datasets import fashion_mnist\n",
        "from keras.utils import np_utils\n",
        "import matplotlib.pyplot as plt\n",
        "(x_train,y_train),(x_test,y_test) = fashion_mnist.load_data()"
      ],
      "execution_count": null,
      "outputs": [
        {
          "output_type": "stream",
          "text": [
            "Using TensorFlow backend.\n"
          ],
          "name": "stderr"
        },
        {
          "output_type": "stream",
          "text": [
            "Downloading data from http://fashion-mnist.s3-website.eu-central-1.amazonaws.com/train-labels-idx1-ubyte.gz\n",
            "32768/29515 [=================================] - 0s 3us/step\n",
            "Downloading data from http://fashion-mnist.s3-website.eu-central-1.amazonaws.com/train-images-idx3-ubyte.gz\n",
            "26427392/26421880 [==============================] - 2s 0us/step\n",
            "Downloading data from http://fashion-mnist.s3-website.eu-central-1.amazonaws.com/t10k-labels-idx1-ubyte.gz\n",
            "8192/5148 [===============================================] - 0s 0us/step\n",
            "Downloading data from http://fashion-mnist.s3-website.eu-central-1.amazonaws.com/t10k-images-idx3-ubyte.gz\n",
            "4423680/4422102 [==============================] - 1s 0us/step\n"
          ],
          "name": "stdout"
        }
      ]
    },
    {
      "cell_type": "code",
      "metadata": {
        "id": "3QjpZ8g-e0OC",
        "colab_type": "code",
        "colab": {
          "base_uri": "https://localhost:8080/",
          "height": 51
        },
        "outputId": "70c02f17-14ce-42d9-fd18-f648df330686"
      },
      "source": [
        "print(x_train.shape)\n",
        "print(y_train.shape)"
      ],
      "execution_count": null,
      "outputs": [
        {
          "output_type": "stream",
          "text": [
            "(60000, 28, 28)\n",
            "(60000,)\n"
          ],
          "name": "stdout"
        }
      ]
    },
    {
      "cell_type": "code",
      "metadata": {
        "id": "-OsPHjKh8zTt",
        "colab_type": "code",
        "colab": {
          "base_uri": "https://localhost:8080/",
          "height": 68
        },
        "outputId": "95033b32-5e92-4940-a696-64021a9ede42"
      },
      "source": [
        "x_train = x_train.reshape(x_train.shape[0], 28*28).astype('float32')\n",
        "x_test = x_test.reshape(x_test.shape[0], 28*28).astype('float32')\n",
        "# normalize\n",
        "x_train = x_train / 255\n",
        "x_test = x_test / 255\n",
        "# one-hot encodeing\n",
        "y_train_categorical = np_utils.to_categorical(y_train)\n",
        "y_test_categorical = np_utils.to_categorical(y_test)\n",
        "print(x_train.shape)\n",
        "print(y_train.shape)\n",
        "print(y_train_categorical.shape)"
      ],
      "execution_count": null,
      "outputs": [
        {
          "output_type": "stream",
          "text": [
            "(60000, 784)\n",
            "(60000,)\n",
            "(60000, 10)\n"
          ],
          "name": "stdout"
        }
      ]
    },
    {
      "cell_type": "code",
      "metadata": {
        "id": "IW25UKSx9IaK",
        "colab_type": "code",
        "colab": {
          "base_uri": "https://localhost:8080/",
          "height": 88
        },
        "outputId": "4efa67f2-165a-4c52-c0d2-dc7f5299af4e"
      },
      "source": [
        "from keras.models import Sequential\n",
        "from keras.layers import Dense, Dropout, BatchNormalization\n",
        "from keras.optimizers import Adam\n",
        "\n",
        "model = Sequential()\n",
        "model.add(Dense(input_dim = 28*28, units = 512, activation=\"relu\"))\n",
        "model.add(BatchNormalization())\n",
        "model.add(Dense(512, activation=\"relu\"))\n",
        "model.add(BatchNormalization())\n",
        "model.add(Dropout(0.3))\n",
        "model.add(Dense(256, activation=\"relu\"))\n",
        "model.add(BatchNormalization())\n",
        "model.add(Dense(256, activation=\"relu\"))\n",
        "model.add(BatchNormalization())\n",
        "model.add(Dropout(0.3))\n",
        "model.add(Dense(10,activation='softmax'))\n",
        "\n",
        "opti = Adam(lr=0.001,decay=0, beta_1=0.9, beta_2=0.999, epsilon=1e-08)\n",
        "model.compile(loss='categorical_crossentropy', optimizer=opti, metrics=['accuracy'])"
      ],
      "execution_count": null,
      "outputs": [
        {
          "output_type": "stream",
          "text": [
            "WARNING:tensorflow:From /tensorflow-1.15.2/python3.6/tensorflow_core/python/ops/resource_variable_ops.py:1630: calling BaseResourceVariable.__init__ (from tensorflow.python.ops.resource_variable_ops) with constraint is deprecated and will be removed in a future version.\n",
            "Instructions for updating:\n",
            "If using Keras pass *_constraint arguments to layers.\n"
          ],
          "name": "stdout"
        }
      ]
    },
    {
      "cell_type": "code",
      "metadata": {
        "id": "38CL38tY96bd",
        "colab_type": "code",
        "colab": {
          "base_uri": "https://localhost:8080/",
          "height": 1000
        },
        "outputId": "ca7c3aa0-5f94-4efd-f974-c01203599170"
      },
      "source": [
        "train_history = model.fit(x_train, y_train_categorical, batch_size=64, epochs=50, validation_data=(x_test, y_test_categorical))"
      ],
      "execution_count": null,
      "outputs": [
        {
          "output_type": "stream",
          "text": [
            "Train on 60000 samples, validate on 10000 samples\n",
            "Epoch 1/50\n",
            "60000/60000 [==============================] - 8s 128us/step - loss: 0.3186 - accuracy: 0.8833 - val_loss: 0.3454 - val_accuracy: 0.8728\n",
            "Epoch 2/50\n",
            "60000/60000 [==============================] - 7s 123us/step - loss: 0.3052 - accuracy: 0.8885 - val_loss: 0.3621 - val_accuracy: 0.8702\n",
            "Epoch 3/50\n",
            "60000/60000 [==============================] - 8s 126us/step - loss: 0.2938 - accuracy: 0.8914 - val_loss: 0.3906 - val_accuracy: 0.8601\n",
            "Epoch 4/50\n",
            "60000/60000 [==============================] - 8s 128us/step - loss: 0.2862 - accuracy: 0.8946 - val_loss: 0.3571 - val_accuracy: 0.8725\n",
            "Epoch 5/50\n",
            "60000/60000 [==============================] - 7s 118us/step - loss: 0.2744 - accuracy: 0.8986 - val_loss: 0.3721 - val_accuracy: 0.8699\n",
            "Epoch 6/50\n",
            "60000/60000 [==============================] - 8s 127us/step - loss: 0.2682 - accuracy: 0.8999 - val_loss: 0.3376 - val_accuracy: 0.8802\n",
            "Epoch 7/50\n",
            "60000/60000 [==============================] - 7s 121us/step - loss: 0.2609 - accuracy: 0.9032 - val_loss: 0.3589 - val_accuracy: 0.8762\n",
            "Epoch 8/50\n",
            "60000/60000 [==============================] - 8s 129us/step - loss: 0.2567 - accuracy: 0.9032 - val_loss: 0.3287 - val_accuracy: 0.8843\n",
            "Epoch 9/50\n",
            "60000/60000 [==============================] - 7s 121us/step - loss: 0.2493 - accuracy: 0.9071 - val_loss: 0.3677 - val_accuracy: 0.8640\n",
            "Epoch 10/50\n",
            "60000/60000 [==============================] - 7s 123us/step - loss: 0.2414 - accuracy: 0.9101 - val_loss: 0.3304 - val_accuracy: 0.8844\n",
            "Epoch 11/50\n",
            "60000/60000 [==============================] - 7s 121us/step - loss: 0.2367 - accuracy: 0.9110 - val_loss: 0.3556 - val_accuracy: 0.8761\n",
            "Epoch 12/50\n",
            "60000/60000 [==============================] - 7s 122us/step - loss: 0.2284 - accuracy: 0.9137 - val_loss: 0.3330 - val_accuracy: 0.8862\n",
            "Epoch 13/50\n",
            "60000/60000 [==============================] - 7s 121us/step - loss: 0.2264 - accuracy: 0.9148 - val_loss: 0.3239 - val_accuracy: 0.8847\n",
            "Epoch 14/50\n",
            "60000/60000 [==============================] - 7s 121us/step - loss: 0.2186 - accuracy: 0.9183 - val_loss: 0.3691 - val_accuracy: 0.8805\n",
            "Epoch 15/50\n",
            "60000/60000 [==============================] - 7s 120us/step - loss: 0.2121 - accuracy: 0.9211 - val_loss: 0.3654 - val_accuracy: 0.8782\n",
            "Epoch 16/50\n",
            "60000/60000 [==============================] - 8s 130us/step - loss: 0.2078 - accuracy: 0.9223 - val_loss: 0.3219 - val_accuracy: 0.8916\n",
            "Epoch 17/50\n",
            "60000/60000 [==============================] - 8s 130us/step - loss: 0.2020 - accuracy: 0.9243 - val_loss: 0.3460 - val_accuracy: 0.8822\n",
            "Epoch 18/50\n",
            "60000/60000 [==============================] - 7s 123us/step - loss: 0.1981 - accuracy: 0.9252 - val_loss: 0.3316 - val_accuracy: 0.8851\n",
            "Epoch 19/50\n",
            "60000/60000 [==============================] - 8s 127us/step - loss: 0.1977 - accuracy: 0.9256 - val_loss: 0.3315 - val_accuracy: 0.8896\n",
            "Epoch 20/50\n",
            "60000/60000 [==============================] - 7s 119us/step - loss: 0.1879 - accuracy: 0.9293 - val_loss: 0.3426 - val_accuracy: 0.8873\n",
            "Epoch 21/50\n",
            "60000/60000 [==============================] - 7s 124us/step - loss: 0.1883 - accuracy: 0.9292 - val_loss: 0.3306 - val_accuracy: 0.8903\n",
            "Epoch 22/50\n",
            "60000/60000 [==============================] - 7s 125us/step - loss: 0.1856 - accuracy: 0.9311 - val_loss: 0.3519 - val_accuracy: 0.8867\n",
            "Epoch 23/50\n",
            "60000/60000 [==============================] - 7s 122us/step - loss: 0.1803 - accuracy: 0.9319 - val_loss: 0.3478 - val_accuracy: 0.8846\n",
            "Epoch 24/50\n",
            "60000/60000 [==============================] - 7s 125us/step - loss: 0.1769 - accuracy: 0.9333 - val_loss: 0.3399 - val_accuracy: 0.8928\n",
            "Epoch 25/50\n",
            "60000/60000 [==============================] - 8s 127us/step - loss: 0.1739 - accuracy: 0.9341 - val_loss: 0.3386 - val_accuracy: 0.8848\n",
            "Epoch 26/50\n",
            "60000/60000 [==============================] - 7s 123us/step - loss: 0.1696 - accuracy: 0.9346 - val_loss: 0.3645 - val_accuracy: 0.8817\n",
            "Epoch 27/50\n",
            "60000/60000 [==============================] - 7s 117us/step - loss: 0.1633 - accuracy: 0.9372 - val_loss: 0.3507 - val_accuracy: 0.8901\n",
            "Epoch 28/50\n",
            "60000/60000 [==============================] - 7s 121us/step - loss: 0.1643 - accuracy: 0.9377 - val_loss: 0.3515 - val_accuracy: 0.8901\n",
            "Epoch 29/50\n",
            "60000/60000 [==============================] - 8s 129us/step - loss: 0.1620 - accuracy: 0.9392 - val_loss: 0.3432 - val_accuracy: 0.8934\n",
            "Epoch 30/50\n",
            "60000/60000 [==============================] - 8s 127us/step - loss: 0.1543 - accuracy: 0.9423 - val_loss: 0.3713 - val_accuracy: 0.8864\n",
            "Epoch 31/50\n",
            "60000/60000 [==============================] - 7s 116us/step - loss: 0.1570 - accuracy: 0.9400 - val_loss: 0.3474 - val_accuracy: 0.8915\n",
            "Epoch 32/50\n",
            "60000/60000 [==============================] - 7s 115us/step - loss: 0.1541 - accuracy: 0.9407 - val_loss: 0.3502 - val_accuracy: 0.8882\n",
            "Epoch 33/50\n",
            "60000/60000 [==============================] - 7s 121us/step - loss: 0.1511 - accuracy: 0.9426 - val_loss: 0.3649 - val_accuracy: 0.8921\n",
            "Epoch 34/50\n",
            "60000/60000 [==============================] - 7s 122us/step - loss: 0.1475 - accuracy: 0.9436 - val_loss: 0.3577 - val_accuracy: 0.8880\n",
            "Epoch 35/50\n",
            "60000/60000 [==============================] - 7s 118us/step - loss: 0.1447 - accuracy: 0.9444 - val_loss: 0.4022 - val_accuracy: 0.8879\n",
            "Epoch 36/50\n",
            "60000/60000 [==============================] - 7s 116us/step - loss: 0.1392 - accuracy: 0.9469 - val_loss: 0.3435 - val_accuracy: 0.8967\n",
            "Epoch 37/50\n",
            "60000/60000 [==============================] - 8s 126us/step - loss: 0.1379 - accuracy: 0.9468 - val_loss: 0.3698 - val_accuracy: 0.8968\n",
            "Epoch 38/50\n",
            "60000/60000 [==============================] - 7s 121us/step - loss: 0.1352 - accuracy: 0.9484 - val_loss: 0.3606 - val_accuracy: 0.8920\n",
            "Epoch 39/50\n",
            "60000/60000 [==============================] - 7s 121us/step - loss: 0.1367 - accuracy: 0.9472 - val_loss: 0.3719 - val_accuracy: 0.8869\n",
            "Epoch 40/50\n",
            "60000/60000 [==============================] - 8s 126us/step - loss: 0.1296 - accuracy: 0.9516 - val_loss: 0.4049 - val_accuracy: 0.8876\n",
            "Epoch 41/50\n",
            "60000/60000 [==============================] - 7s 119us/step - loss: 0.1295 - accuracy: 0.9503 - val_loss: 0.4095 - val_accuracy: 0.8876\n",
            "Epoch 42/50\n",
            "60000/60000 [==============================] - 8s 129us/step - loss: 0.1268 - accuracy: 0.9517 - val_loss: 0.3729 - val_accuracy: 0.8870\n",
            "Epoch 43/50\n",
            "60000/60000 [==============================] - 8s 134us/step - loss: 0.1254 - accuracy: 0.9521 - val_loss: 0.3730 - val_accuracy: 0.8920\n",
            "Epoch 44/50\n",
            "60000/60000 [==============================] - 7s 123us/step - loss: 0.1219 - accuracy: 0.9541 - val_loss: 0.4048 - val_accuracy: 0.8869\n",
            "Epoch 45/50\n",
            "60000/60000 [==============================] - 7s 122us/step - loss: 0.1225 - accuracy: 0.9534 - val_loss: 0.3893 - val_accuracy: 0.8919\n",
            "Epoch 46/50\n",
            "60000/60000 [==============================] - 7s 124us/step - loss: 0.1213 - accuracy: 0.9534 - val_loss: 0.3777 - val_accuracy: 0.8944\n",
            "Epoch 47/50\n",
            "60000/60000 [==============================] - 8s 129us/step - loss: 0.1152 - accuracy: 0.9563 - val_loss: 0.3824 - val_accuracy: 0.8921\n",
            "Epoch 48/50\n",
            "60000/60000 [==============================] - 7s 124us/step - loss: 0.1170 - accuracy: 0.9552 - val_loss: 0.4133 - val_accuracy: 0.8917\n",
            "Epoch 49/50\n",
            "60000/60000 [==============================] - 7s 123us/step - loss: 0.1168 - accuracy: 0.9553 - val_loss: 0.3965 - val_accuracy: 0.8942\n",
            "Epoch 50/50\n",
            "60000/60000 [==============================] - 8s 128us/step - loss: 0.1125 - accuracy: 0.9571 - val_loss: 0.4213 - val_accuracy: 0.8840\n"
          ],
          "name": "stdout"
        }
      ]
    },
    {
      "cell_type": "code",
      "metadata": {
        "id": "JxcvF_HKAcwH",
        "colab_type": "code",
        "colab": {
          "base_uri": "https://localhost:8080/",
          "height": 527
        },
        "outputId": "3088cb28-081c-47e7-93d3-80917a6d8e21"
      },
      "source": [
        "model.summary()"
      ],
      "execution_count": null,
      "outputs": [
        {
          "output_type": "stream",
          "text": [
            "Model: \"sequential_1\"\n",
            "_________________________________________________________________\n",
            "Layer (type)                 Output Shape              Param #   \n",
            "=================================================================\n",
            "dense_1 (Dense)              (None, 512)               401920    \n",
            "_________________________________________________________________\n",
            "batch_normalization_1 (Batch (None, 512)               2048      \n",
            "_________________________________________________________________\n",
            "dense_2 (Dense)              (None, 512)               262656    \n",
            "_________________________________________________________________\n",
            "batch_normalization_2 (Batch (None, 512)               2048      \n",
            "_________________________________________________________________\n",
            "dropout_1 (Dropout)          (None, 512)               0         \n",
            "_________________________________________________________________\n",
            "dense_3 (Dense)              (None, 256)               131328    \n",
            "_________________________________________________________________\n",
            "batch_normalization_3 (Batch (None, 256)               1024      \n",
            "_________________________________________________________________\n",
            "dense_4 (Dense)              (None, 256)               65792     \n",
            "_________________________________________________________________\n",
            "batch_normalization_4 (Batch (None, 256)               1024      \n",
            "_________________________________________________________________\n",
            "dropout_2 (Dropout)          (None, 256)               0         \n",
            "_________________________________________________________________\n",
            "dense_5 (Dense)              (None, 10)                2570      \n",
            "=================================================================\n",
            "Total params: 870,410\n",
            "Trainable params: 867,338\n",
            "Non-trainable params: 3,072\n",
            "_________________________________________________________________\n"
          ],
          "name": "stdout"
        }
      ]
    },
    {
      "cell_type": "code",
      "metadata": {
        "id": "xoIgPKkjAefq",
        "colab_type": "code",
        "colab": {}
      },
      "source": [
        "def show_train_history(train_history, train, validation):\n",
        "    plt.plot(train_history.history[train])\n",
        "    plt.plot(train_history.history[validation])\n",
        "    plt.title('Train History')\n",
        "    plt.ylabel('train')\n",
        "    plt.xlabel('Epoch')\n",
        "    plt.legend(['train', 'validation'])\n",
        "    plt.show()"
      ],
      "execution_count": null,
      "outputs": []
    },
    {
      "cell_type": "code",
      "metadata": {
        "id": "XEx130YgAhNS",
        "colab_type": "code",
        "colab": {
          "base_uri": "https://localhost:8080/",
          "height": 295
        },
        "outputId": "54aa166b-fc96-4cc9-b5ef-cfa44d7213a6"
      },
      "source": [
        "show_train_history(train_history, 'accuracy','val_accuracy')"
      ],
      "execution_count": null,
      "outputs": [
        {
          "output_type": "display_data",
          "data": {
            "image/png": "[encoded data removed]",
            "text/plain": [
              "<Figure size 432x288 with 1 Axes>"
            ]
          },
          "metadata": {
            "tags": [],
            "needs_background": "light"
          }
        }
      ]
    },
    {
      "cell_type": "code",
      "metadata": {
        "id": "w1z71g4tAiha",
        "colab_type": "code",
        "colab": {
          "base_uri": "https://localhost:8080/",
          "height": 295
        },
        "outputId": "9c2f1e00-2183-49c1-b7e8-cf1542a7a959"
      },
      "source": [
        "show_train_history(train_history, 'loss','val_loss')"
      ],
      "execution_count": null,
      "outputs": [
        {
          "output_type": "display_data",
          "data": {
            "image/png": "[encoded data removed]",
            "text/plain": [
              "<Figure size 432x288 with 1 Axes>"
            ]
          },
          "metadata": {
            "tags": [],
            "needs_background": "light"
          }
        }
      ]
    },
    {
      "cell_type": "code",
      "metadata": {
        "id": "8p6VYxb6Ak3D",
        "colab_type": "code",
        "colab": {
          "base_uri": "https://localhost:8080/",
          "height": 51
        },
        "outputId": "40bb5248-86a0-4d89-f268-7e86651f6b1e"
      },
      "source": [
        "scores = model.evaluate(x_test, y_test_categorical)\n",
        "scores[1]"
      ],
      "execution_count": null,
      "outputs": [
        {
          "output_type": "stream",
          "text": [
            "10000/10000 [==============================] - 1s 76us/step\n"
          ],
          "name": "stdout"
        },
        {
          "output_type": "execute_result",
          "data": {
            "text/plain": [
              "0.8840000033378601"
            ]
          },
          "metadata": {
            "tags": []
          },
          "execution_count": 27
        }
      ]
    },
    {
      "cell_type": "code",
      "metadata": {
        "id": "Dx4D31nvDGnD",
        "colab_type": "code",
        "colab": {
          "base_uri": "https://localhost:8080/",
          "height": 390
        },
        "outputId": "6ff0fbe1-d11a-4619-a7a9-be01b2adee4d"
      },
      "source": [
        "import pandas as pd\n",
        "prediction = model.predict_classes(x_test)\n",
        "\n",
        "pd.crosstab(y_test, prediction, rownames=['label'], colnames=['predict'])"
      ],
      "execution_count": null,
      "outputs": [
        {
          "output_type": "execute_result",
          "data": {
            "text/html": [
              "<div>\n",
              "<style scoped>\n",
              "    .dataframe tbody tr th:only-of-type {\n",
              "        vertical-align: middle;\n",
              "    }\n",
              "\n",
              "    .dataframe tbody tr th {\n",
              "        vertical-align: top;\n",
              "    }\n",
              "\n",
              "    .dataframe thead th {\n",
              "        text-align: right;\n",
              "    }\n",
              "</style>\n",
              "<table border=\"1\" class=\"dataframe\">\n",
              "  <thead>\n",
              "    <tr style=\"text-align: right;\">\n",
              "      <th>predict</th>\n",
              "      <th>0</th>\n",
              "      <th>1</th>\n",
              "      <th>2</th>\n",
              "      <th>3</th>\n",
              "      <th>4</th>\n",
              "      <th>5</th>\n",
              "      <th>6</th>\n",
              "      <th>7</th>\n",
              "      <th>8</th>\n",
              "      <th>9</th>\n",
              "    </tr>\n",
              "    <tr>\n",
              "      <th>label</th>\n",
              "      <th></th>\n",
              "      <th></th>\n",
              "      <th></th>\n",
              "      <th></th>\n",
              "      <th></th>\n",
              "      <th></th>\n",
              "      <th></th>\n",
              "      <th></th>\n",
              "      <th></th>\n",
              "      <th></th>\n",
              "    </tr>\n",
              "  </thead>\n",
              "  <tbody>\n",
              "    <tr>\n",
              "      <th>0</th>\n",
              "      <td>817</td>\n",
              "      <td>1</td>\n",
              "      <td>11</td>\n",
              "      <td>17</td>\n",
              "      <td>0</td>\n",
              "      <td>1</td>\n",
              "      <td>148</td>\n",
              "      <td>0</td>\n",
              "      <td>5</td>\n",
              "      <td>0</td>\n",
              "    </tr>\n",
              "    <tr>\n",
              "      <th>1</th>\n",
              "      <td>7</td>\n",
              "      <td>968</td>\n",
              "      <td>0</td>\n",
              "      <td>15</td>\n",
              "      <td>2</td>\n",
              "      <td>0</td>\n",
              "      <td>7</td>\n",
              "      <td>0</td>\n",
              "      <td>1</td>\n",
              "      <td>0</td>\n",
              "    </tr>\n",
              "    <tr>\n",
              "      <th>2</th>\n",
              "      <td>17</td>\n",
              "      <td>0</td>\n",
              "      <td>796</td>\n",
              "      <td>12</td>\n",
              "      <td>78</td>\n",
              "      <td>0</td>\n",
              "      <td>95</td>\n",
              "      <td>0</td>\n",
              "      <td>2</td>\n",
              "      <td>0</td>\n",
              "    </tr>\n",
              "    <tr>\n",
              "      <th>3</th>\n",
              "      <td>30</td>\n",
              "      <td>6</td>\n",
              "      <td>6</td>\n",
              "      <td>887</td>\n",
              "      <td>19</td>\n",
              "      <td>0</td>\n",
              "      <td>48</td>\n",
              "      <td>0</td>\n",
              "      <td>4</td>\n",
              "      <td>0</td>\n",
              "    </tr>\n",
              "    <tr>\n",
              "      <th>4</th>\n",
              "      <td>6</td>\n",
              "      <td>2</td>\n",
              "      <td>75</td>\n",
              "      <td>47</td>\n",
              "      <td>773</td>\n",
              "      <td>0</td>\n",
              "      <td>91</td>\n",
              "      <td>0</td>\n",
              "      <td>6</td>\n",
              "      <td>0</td>\n",
              "    </tr>\n",
              "    <tr>\n",
              "      <th>5</th>\n",
              "      <td>0</td>\n",
              "      <td>0</td>\n",
              "      <td>0</td>\n",
              "      <td>0</td>\n",
              "      <td>0</td>\n",
              "      <td>963</td>\n",
              "      <td>0</td>\n",
              "      <td>19</td>\n",
              "      <td>3</td>\n",
              "      <td>15</td>\n",
              "    </tr>\n",
              "    <tr>\n",
              "      <th>6</th>\n",
              "      <td>121</td>\n",
              "      <td>1</td>\n",
              "      <td>59</td>\n",
              "      <td>20</td>\n",
              "      <td>44</td>\n",
              "      <td>0</td>\n",
              "      <td>743</td>\n",
              "      <td>0</td>\n",
              "      <td>12</td>\n",
              "      <td>0</td>\n",
              "    </tr>\n",
              "    <tr>\n",
              "      <th>7</th>\n",
              "      <td>0</td>\n",
              "      <td>0</td>\n",
              "      <td>0</td>\n",
              "      <td>0</td>\n",
              "      <td>0</td>\n",
              "      <td>4</td>\n",
              "      <td>0</td>\n",
              "      <td>954</td>\n",
              "      <td>0</td>\n",
              "      <td>42</td>\n",
              "    </tr>\n",
              "    <tr>\n",
              "      <th>8</th>\n",
              "      <td>4</td>\n",
              "      <td>1</td>\n",
              "      <td>0</td>\n",
              "      <td>3</td>\n",
              "      <td>3</td>\n",
              "      <td>1</td>\n",
              "      <td>6</td>\n",
              "      <td>3</td>\n",
              "      <td>979</td>\n",
              "      <td>0</td>\n",
              "    </tr>\n",
              "    <tr>\n",
              "      <th>9</th>\n",
              "      <td>1</td>\n",
              "      <td>0</td>\n",
              "      <td>0</td>\n",
              "      <td>0</td>\n",
              "      <td>0</td>\n",
              "      <td>4</td>\n",
              "      <td>0</td>\n",
              "      <td>35</td>\n",
              "      <td>0</td>\n",
              "      <td>960</td>\n",
              "    </tr>\n",
              "  </tbody>\n",
              "</table>\n",
              "</div>"
            ],
            "text/plain": [
              "predict    0    1    2    3    4    5    6    7    8    9\n",
              "label                                                    \n",
              "0        817    1   11   17    0    1  148    0    5    0\n",
              "1          7  968    0   15    2    0    7    0    1    0\n",
              "2         17    0  796   12   78    0   95    0    2    0\n",
              "3         30    6    6  887   19    0   48    0    4    0\n",
              "4          6    2   75   47  773    0   91    0    6    0\n",
              "5          0    0    0    0    0  963    0   19    3   15\n",
              "6        121    1   59   20   44    0  743    0   12    0\n",
              "7          0    0    0    0    0    4    0  954    0   42\n",
              "8          4    1    0    3    3    1    6    3  979    0\n",
              "9          1    0    0    0    0    4    0   35    0  960"
            ]
          },
          "metadata": {
            "tags": []
          },
          "execution_count": 28
        }
      ]
    },
    {
      "cell_type": "code",
      "metadata": {
        "id": "AgH5Bxu7Bq5y",
        "colab_type": "code",
        "colab": {}
      },
      "source": [
        "# CNN的input shape要重新調整\n",
        "x_train_cnn = x_train.reshape(x_train.shape[0], 28, 28, 1).astype('float32')\n",
        "x_test_cnn = x_test.reshape(x_test.shape[0], 28, 28, 1).astype('float32')"
      ],
      "execution_count": null,
      "outputs": []
    },
    {
      "cell_type": "code",
      "metadata": {
        "id": "kKssVhGwBw4E",
        "colab_type": "code",
        "colab": {
          "base_uri": "https://localhost:8080/",
          "height": 88
        },
        "outputId": "e13d8524-cadb-42b4-b81f-0cd01a701bf8"
      },
      "source": [
        "import keras\n",
        "from keras.models import Sequential\n",
        "from keras.layers import Dense, Activation, Flatten, Dropout, BatchNormalization\n",
        "from keras.layers import Conv2D, MaxPooling2D\n",
        "from keras.optimizers import Adam\n",
        "\n",
        "filter_size = 128\n",
        "model_CNN = Sequential()\n",
        "model_CNN.add(Conv2D(filters=filter_size, input_shape=(28,28,1), kernel_size=(3,3), strides = (1, 1), activation=\"relu\"))\n",
        "model_CNN.add(BatchNormalization(axis=1))\n",
        "model_CNN.add(Conv2D(filter_size, (3,3), activation=\"relu\"))\n",
        "model_CNN.add(BatchNormalization(axis=1))\n",
        "model_CNN.add(Dropout(0.3))\n",
        "\n",
        "model_CNN.add(Conv2D(2*filter_size, (3,3), activation=\"relu\"))\n",
        "model_CNN.add(BatchNormalization(axis=1))\n",
        "model_CNN.add(Conv2D(2*filter_size, (3,3), activation=\"relu\"))\n",
        "model_CNN.add(BatchNormalization(axis=1))\n",
        "model_CNN.add(MaxPooling2D((2,2)))\n",
        "model_CNN.add(Dropout(0.3))\n",
        "\n",
        "model_CNN.add(Flatten())\n",
        "model_CNN.add(Dense(256, activation=\"relu\"))\n",
        "model_CNN.add(BatchNormalization())\n",
        "model_CNN.add(Dense(256, activation=\"relu\"))\n",
        "model_CNN.add(BatchNormalization())\n",
        "model_CNN.add(Dropout(0.3))\n",
        "model_CNN.add(Dense(output_dim=10, activation=\"softmax\"))\n",
        "opti = Adam(lr=0.001,decay=0, beta_1=0.9, beta_2=0.999, epsilon=1e-08)\n",
        "model_CNN.compile(loss='categorical_crossentropy', optimizer=opti, metrics=['accuracy'])"
      ],
      "execution_count": null,
      "outputs": [
        {
          "output_type": "stream",
          "text": [
            "WARNING:tensorflow:From /usr/local/lib/python3.6/dist-packages/keras/backend/tensorflow_backend.py:4070: The name tf.nn.max_pool is deprecated. Please use tf.nn.max_pool2d instead.\n",
            "\n"
          ],
          "name": "stdout"
        },
        {
          "output_type": "stream",
          "text": [
            "/usr/local/lib/python3.6/dist-packages/ipykernel_launcher.py:28: UserWarning: Update your `Dense` call to the Keras 2 API: `Dense(activation=\"softmax\", units=10)`\n"
          ],
          "name": "stderr"
        }
      ]
    },
    {
      "cell_type": "code",
      "metadata": {
        "id": "VJXmkXs785pS",
        "colab_type": "code",
        "colab": {
          "base_uri": "https://localhost:8080/",
          "height": 1000
        },
        "outputId": "64e99136-8c5b-419b-8299-efee0186efb0"
      },
      "source": [
        "train_history_cnn = model_CNN.fit(x_train_cnn, y_train_categorical, batch_size=64, epochs=50, validation_data=(x_test_cnn, y_test_categorical))"
      ],
      "execution_count": null,
      "outputs": [
        {
          "output_type": "stream",
          "text": [
            "Train on 60000 samples, validate on 10000 samples\n",
            "Epoch 1/50\n",
            "60000/60000 [==============================] - 46s 772us/step - loss: 0.3788 - accuracy: 0.8629 - val_loss: 0.3124 - val_accuracy: 0.8888\n",
            "Epoch 2/50\n",
            "60000/60000 [==============================] - 46s 768us/step - loss: 0.2848 - accuracy: 0.8959 - val_loss: 0.2672 - val_accuracy: 0.9032\n",
            "Epoch 3/50\n",
            "60000/60000 [==============================] - 46s 772us/step - loss: 0.2453 - accuracy: 0.9103 - val_loss: 0.2644 - val_accuracy: 0.9042\n",
            "Epoch 4/50\n",
            "60000/60000 [==============================] - 46s 771us/step - loss: 0.2193 - accuracy: 0.9202 - val_loss: 0.2488 - val_accuracy: 0.9082\n",
            "Epoch 5/50\n",
            "60000/60000 [==============================] - 46s 765us/step - loss: 0.2022 - accuracy: 0.9254 - val_loss: 0.2355 - val_accuracy: 0.9129\n",
            "Epoch 6/50\n",
            "60000/60000 [==============================] - 46s 771us/step - loss: 0.1786 - accuracy: 0.9341 - val_loss: 0.2212 - val_accuracy: 0.9192\n",
            "Epoch 7/50\n",
            "60000/60000 [==============================] - 46s 770us/step - loss: 0.1471 - accuracy: 0.9455 - val_loss: 0.2375 - val_accuracy: 0.9223\n",
            "Epoch 8/50\n",
            "60000/60000 [==============================] - 46s 771us/step - loss: 0.1328 - accuracy: 0.9513 - val_loss: 0.2498 - val_accuracy: 0.9161\n",
            "Epoch 9/50\n",
            "60000/60000 [==============================] - 47s 775us/step - loss: 0.1152 - accuracy: 0.9572 - val_loss: 0.2222 - val_accuracy: 0.9252\n",
            "Epoch 10/50\n",
            "60000/60000 [==============================] - 46s 768us/step - loss: 0.0948 - accuracy: 0.9645 - val_loss: 0.2293 - val_accuracy: 0.9292\n",
            "Epoch 11/50\n",
            "60000/60000 [==============================] - 46s 763us/step - loss: 0.0755 - accuracy: 0.9729 - val_loss: 0.2426 - val_accuracy: 0.9305\n",
            "Epoch 12/50\n",
            "60000/60000 [==============================] - 46s 766us/step - loss: 0.0639 - accuracy: 0.9760 - val_loss: 0.2699 - val_accuracy: 0.9284\n",
            "Epoch 13/50\n",
            "60000/60000 [==============================] - 46s 766us/step - loss: 0.0555 - accuracy: 0.9796 - val_loss: 0.2787 - val_accuracy: 0.9285\n",
            "Epoch 14/50\n",
            "60000/60000 [==============================] - 46s 764us/step - loss: 0.0468 - accuracy: 0.9829 - val_loss: 0.2991 - val_accuracy: 0.9279\n",
            "Epoch 15/50\n",
            "60000/60000 [==============================] - 46s 764us/step - loss: 0.0447 - accuracy: 0.9835 - val_loss: 0.3053 - val_accuracy: 0.9274\n",
            "Epoch 16/50\n",
            "60000/60000 [==============================] - 46s 767us/step - loss: 0.0366 - accuracy: 0.9871 - val_loss: 0.3068 - val_accuracy: 0.9310\n",
            "Epoch 17/50\n",
            "60000/60000 [==============================] - 46s 765us/step - loss: 0.0343 - accuracy: 0.9877 - val_loss: 0.3357 - val_accuracy: 0.9265\n",
            "Epoch 18/50\n",
            "60000/60000 [==============================] - 45s 757us/step - loss: 0.0288 - accuracy: 0.9901 - val_loss: 0.3334 - val_accuracy: 0.9306\n",
            "Epoch 19/50\n",
            "60000/60000 [==============================] - 45s 755us/step - loss: 0.0273 - accuracy: 0.9902 - val_loss: 0.3339 - val_accuracy: 0.9290\n",
            "Epoch 20/50\n",
            "60000/60000 [==============================] - 45s 754us/step - loss: 0.0245 - accuracy: 0.9912 - val_loss: 0.3401 - val_accuracy: 0.9332\n",
            "Epoch 21/50\n",
            "60000/60000 [==============================] - 45s 754us/step - loss: 0.0229 - accuracy: 0.9923 - val_loss: 0.3650 - val_accuracy: 0.9280\n",
            "Epoch 22/50\n",
            "60000/60000 [==============================] - 45s 757us/step - loss: 0.0231 - accuracy: 0.9921 - val_loss: 0.3660 - val_accuracy: 0.9290\n",
            "Epoch 23/50\n",
            "60000/60000 [==============================] - 46s 759us/step - loss: 0.0191 - accuracy: 0.9933 - val_loss: 0.3504 - val_accuracy: 0.9316\n",
            "Epoch 24/50\n",
            "60000/60000 [==============================] - 45s 754us/step - loss: 0.0212 - accuracy: 0.9924 - val_loss: 0.3706 - val_accuracy: 0.9314\n",
            "Epoch 25/50\n",
            "60000/60000 [==============================] - 45s 755us/step - loss: 0.0190 - accuracy: 0.9936 - val_loss: 0.3748 - val_accuracy: 0.9328\n",
            "Epoch 26/50\n",
            "60000/60000 [==============================] - 45s 758us/step - loss: 0.0181 - accuracy: 0.9938 - val_loss: 0.3745 - val_accuracy: 0.9287\n",
            "Epoch 27/50\n",
            "60000/60000 [==============================] - 46s 760us/step - loss: 0.0164 - accuracy: 0.9941 - val_loss: 0.3850 - val_accuracy: 0.9299\n",
            "Epoch 28/50\n",
            "60000/60000 [==============================] - 45s 755us/step - loss: 0.0172 - accuracy: 0.9939 - val_loss: 0.3790 - val_accuracy: 0.9291\n",
            "Epoch 29/50\n",
            "60000/60000 [==============================] - 45s 756us/step - loss: 0.0190 - accuracy: 0.9940 - val_loss: 0.3884 - val_accuracy: 0.9330\n",
            "Epoch 30/50\n",
            "60000/60000 [==============================] - 45s 757us/step - loss: 0.0133 - accuracy: 0.9955 - val_loss: 0.4214 - val_accuracy: 0.9314\n",
            "Epoch 31/50\n",
            "60000/60000 [==============================] - 45s 758us/step - loss: 0.0151 - accuracy: 0.9948 - val_loss: 0.4100 - val_accuracy: 0.9294\n",
            "Epoch 32/50\n",
            "60000/60000 [==============================] - 45s 753us/step - loss: 0.0131 - accuracy: 0.9956 - val_loss: 0.4067 - val_accuracy: 0.9318\n",
            "Epoch 33/50\n",
            "60000/60000 [==============================] - 46s 758us/step - loss: 0.0137 - accuracy: 0.9955 - val_loss: 0.3900 - val_accuracy: 0.9325\n",
            "Epoch 34/50\n",
            "60000/60000 [==============================] - 45s 757us/step - loss: 0.0108 - accuracy: 0.9966 - val_loss: 0.4404 - val_accuracy: 0.9291\n",
            "Epoch 35/50\n",
            "60000/60000 [==============================] - 45s 756us/step - loss: 0.0139 - accuracy: 0.9954 - val_loss: 0.4071 - val_accuracy: 0.9313\n",
            "Epoch 36/50\n",
            "60000/60000 [==============================] - 46s 759us/step - loss: 0.0115 - accuracy: 0.9959 - val_loss: 0.4527 - val_accuracy: 0.9286\n",
            "Epoch 37/50\n",
            "60000/60000 [==============================] - 45s 756us/step - loss: 0.0115 - accuracy: 0.9962 - val_loss: 0.4388 - val_accuracy: 0.9320\n",
            "Epoch 38/50\n",
            "60000/60000 [==============================] - 45s 757us/step - loss: 0.0103 - accuracy: 0.9965 - val_loss: 0.4297 - val_accuracy: 0.9288\n",
            "Epoch 39/50\n",
            "60000/60000 [==============================] - 45s 758us/step - loss: 0.0113 - accuracy: 0.9961 - val_loss: 0.4645 - val_accuracy: 0.9271\n",
            "Epoch 40/50\n",
            "60000/60000 [==============================] - 45s 758us/step - loss: 0.0107 - accuracy: 0.9965 - val_loss: 0.4478 - val_accuracy: 0.9316\n",
            "Epoch 41/50\n",
            "60000/60000 [==============================] - 45s 755us/step - loss: 0.0106 - accuracy: 0.9962 - val_loss: 0.4764 - val_accuracy: 0.9262\n",
            "Epoch 42/50\n",
            "60000/60000 [==============================] - 45s 756us/step - loss: 0.0096 - accuracy: 0.9969 - val_loss: 0.4478 - val_accuracy: 0.9281\n",
            "Epoch 43/50\n",
            "60000/60000 [==============================] - 46s 763us/step - loss: 0.0116 - accuracy: 0.9961 - val_loss: 0.4785 - val_accuracy: 0.9284\n",
            "Epoch 44/50\n",
            "60000/60000 [==============================] - 45s 756us/step - loss: 0.0083 - accuracy: 0.9973 - val_loss: 0.4279 - val_accuracy: 0.9301\n",
            "Epoch 45/50\n",
            "60000/60000 [==============================] - 45s 757us/step - loss: 0.0083 - accuracy: 0.9972 - val_loss: 0.4622 - val_accuracy: 0.9273\n",
            "Epoch 46/50\n",
            "60000/60000 [==============================] - 45s 756us/step - loss: 0.0095 - accuracy: 0.9967 - val_loss: 0.4653 - val_accuracy: 0.9282\n",
            "Epoch 47/50\n",
            "60000/60000 [==============================] - 46s 774us/step - loss: 0.0094 - accuracy: 0.9968 - val_loss: 0.4663 - val_accuracy: 0.9292\n",
            "Epoch 48/50\n",
            "60000/60000 [==============================] - 46s 773us/step - loss: 0.0089 - accuracy: 0.9969 - val_loss: 0.4650 - val_accuracy: 0.9304\n",
            "Epoch 49/50\n",
            "60000/60000 [==============================] - 46s 769us/step - loss: 0.0079 - accuracy: 0.9973 - val_loss: 0.4737 - val_accuracy: 0.9326\n",
            "Epoch 50/50\n",
            "60000/60000 [==============================] - 46s 769us/step - loss: 0.0078 - accuracy: 0.9973 - val_loss: 0.4808 - val_accuracy: 0.9295\n"
          ],
          "name": "stdout"
        }
      ]
    },
    {
      "cell_type": "code",
      "metadata": {
        "id": "3n5IZF3mCoA-",
        "colab_type": "code",
        "colab": {
          "base_uri": "https://localhost:8080/",
          "height": 765
        },
        "outputId": "07191a85-b11a-4bc2-e96a-a42798d940f6"
      },
      "source": [
        "model_CNN.summary()"
      ],
      "execution_count": null,
      "outputs": [
        {
          "output_type": "stream",
          "text": [
            "Model: \"sequential_2\"\n",
            "_________________________________________________________________\n",
            "Layer (type)                 Output Shape              Param #   \n",
            "=================================================================\n",
            "conv2d_1 (Conv2D)            (None, 26, 26, 128)       1280      \n",
            "_________________________________________________________________\n",
            "batch_normalization_5 (Batch (None, 26, 26, 128)       104       \n",
            "_________________________________________________________________\n",
            "conv2d_2 (Conv2D)            (None, 24, 24, 128)       147584    \n",
            "_________________________________________________________________\n",
            "batch_normalization_6 (Batch (None, 24, 24, 128)       96        \n",
            "_________________________________________________________________\n",
            "dropout_3 (Dropout)          (None, 24, 24, 128)       0         \n",
            "_________________________________________________________________\n",
            "conv2d_3 (Conv2D)            (None, 22, 22, 256)       295168    \n",
            "_________________________________________________________________\n",
            "batch_normalization_7 (Batch (None, 22, 22, 256)       88        \n",
            "_________________________________________________________________\n",
            "conv2d_4 (Conv2D)            (None, 20, 20, 256)       590080    \n",
            "_________________________________________________________________\n",
            "batch_normalization_8 (Batch (None, 20, 20, 256)       80        \n",
            "_________________________________________________________________\n",
            "max_pooling2d_1 (MaxPooling2 (None, 10, 10, 256)       0         \n",
            "_________________________________________________________________\n",
            "dropout_4 (Dropout)          (None, 10, 10, 256)       0         \n",
            "_________________________________________________________________\n",
            "flatten_1 (Flatten)          (None, 25600)             0         \n",
            "_________________________________________________________________\n",
            "dense_6 (Dense)              (None, 256)               6553856   \n",
            "_________________________________________________________________\n",
            "batch_normalization_9 (Batch (None, 256)               1024      \n",
            "_________________________________________________________________\n",
            "dense_7 (Dense)              (None, 256)               65792     \n",
            "_________________________________________________________________\n",
            "batch_normalization_10 (Batc (None, 256)               1024      \n",
            "_________________________________________________________________\n",
            "dropout_5 (Dropout)          (None, 256)               0         \n",
            "_________________________________________________________________\n",
            "dense_8 (Dense)              (None, 10)                2570      \n",
            "=================================================================\n",
            "Total params: 7,658,746\n",
            "Trainable params: 7,657,538\n",
            "Non-trainable params: 1,208\n",
            "_________________________________________________________________\n"
          ],
          "name": "stdout"
        }
      ]
    },
    {
      "cell_type": "code",
      "metadata": {
        "id": "XxF-xafBCxrY",
        "colab_type": "code",
        "colab": {
          "base_uri": "https://localhost:8080/",
          "height": 295
        },
        "outputId": "55ccd562-9978-42de-e468-d8c8c5474c23"
      },
      "source": [
        "show_train_history(train_history_cnn, 'accuracy','val_accuracy')"
      ],
      "execution_count": null,
      "outputs": [
        {
          "output_type": "display_data",
          "data": {
            "image/png": "[encoded data removed]",
            "text/plain": [
              "<Figure size 432x288 with 1 Axes>"
            ]
          },
          "metadata": {
            "tags": [],
            "needs_background": "light"
          }
        }
      ]
    },
    {
      "cell_type": "code",
      "metadata": {
        "id": "wQ2hBH6kCzqB",
        "colab_type": "code",
        "colab": {
          "base_uri": "https://localhost:8080/",
          "height": 295
        },
        "outputId": "3055874b-0f5c-4231-df06-a39d2b99b5c5"
      },
      "source": [
        "show_train_history(train_history_cnn, 'loss','val_loss')"
      ],
      "execution_count": null,
      "outputs": [
        {
          "output_type": "display_data",
          "data": {
            "image/png": "[encoded data removed]",
            "text/plain": [
              "<Figure size 432x288 with 1 Axes>"
            ]
          },
          "metadata": {
            "tags": [],
            "needs_background": "light"
          }
        }
      ]
    },
    {
      "cell_type": "code",
      "metadata": {
        "id": "qJUFIK2XC1YZ",
        "colab_type": "code",
        "colab": {
          "base_uri": "https://localhost:8080/",
          "height": 51
        },
        "outputId": "438ba2f8-5994-43c4-b4e7-7abbb922cde5"
      },
      "source": [
        "scores = model_CNN.evaluate(x_test_cnn, y_test_categorical)\n",
        "scores[1]"
      ],
      "execution_count": null,
      "outputs": [
        {
          "output_type": "stream",
          "text": [
            "10000/10000 [==============================] - 3s 264us/step\n"
          ],
          "name": "stdout"
        },
        {
          "output_type": "execute_result",
          "data": {
            "text/plain": [
              "0.9294999837875366"
            ]
          },
          "metadata": {
            "tags": []
          },
          "execution_count": 16
        }
      ]
    },
    {
      "cell_type": "code",
      "metadata": {
        "id": "xuhuhhvPC80U",
        "colab_type": "code",
        "colab": {
          "base_uri": "https://localhost:8080/",
          "height": 390
        },
        "outputId": "35410727-5c56-479c-ed24-cb56fdf3c302"
      },
      "source": [
        "import pandas as pd\n",
        "prediction = model_CNN.predict_classes(x_test_cnn)\n",
        "\n",
        "pd.crosstab(y_test, prediction, rownames=['label'], colnames=['predict'])"
      ],
      "execution_count": null,
      "outputs": [
        {
          "output_type": "execute_result",
          "data": {
            "text/html": [
              "<div>\n",
              "<style scoped>\n",
              "    .dataframe tbody tr th:only-of-type {\n",
              "        vertical-align: middle;\n",
              "    }\n",
              "\n",
              "    .dataframe tbody tr th {\n",
              "        vertical-align: top;\n",
              "    }\n",
              "\n",
              "    .dataframe thead th {\n",
              "        text-align: right;\n",
              "    }\n",
              "</style>\n",
              "<table border=\"1\" class=\"dataframe\">\n",
              "  <thead>\n",
              "    <tr style=\"text-align: right;\">\n",
              "      <th>predict</th>\n",
              "      <th>0</th>\n",
              "      <th>1</th>\n",
              "      <th>2</th>\n",
              "      <th>3</th>\n",
              "      <th>4</th>\n",
              "      <th>5</th>\n",
              "      <th>6</th>\n",
              "      <th>7</th>\n",
              "      <th>8</th>\n",
              "      <th>9</th>\n",
              "    </tr>\n",
              "    <tr>\n",
              "      <th>label</th>\n",
              "      <th></th>\n",
              "      <th></th>\n",
              "      <th></th>\n",
              "      <th></th>\n",
              "      <th></th>\n",
              "      <th></th>\n",
              "      <th></th>\n",
              "      <th></th>\n",
              "      <th></th>\n",
              "      <th></th>\n",
              "    </tr>\n",
              "  </thead>\n",
              "  <tbody>\n",
              "    <tr>\n",
              "      <th>0</th>\n",
              "      <td>886</td>\n",
              "      <td>1</td>\n",
              "      <td>16</td>\n",
              "      <td>9</td>\n",
              "      <td>2</td>\n",
              "      <td>1</td>\n",
              "      <td>81</td>\n",
              "      <td>0</td>\n",
              "      <td>4</td>\n",
              "      <td>0</td>\n",
              "    </tr>\n",
              "    <tr>\n",
              "      <th>1</th>\n",
              "      <td>1</td>\n",
              "      <td>987</td>\n",
              "      <td>0</td>\n",
              "      <td>7</td>\n",
              "      <td>2</td>\n",
              "      <td>0</td>\n",
              "      <td>1</td>\n",
              "      <td>0</td>\n",
              "      <td>2</td>\n",
              "      <td>0</td>\n",
              "    </tr>\n",
              "    <tr>\n",
              "      <th>2</th>\n",
              "      <td>17</td>\n",
              "      <td>2</td>\n",
              "      <td>905</td>\n",
              "      <td>4</td>\n",
              "      <td>32</td>\n",
              "      <td>0</td>\n",
              "      <td>40</td>\n",
              "      <td>0</td>\n",
              "      <td>0</td>\n",
              "      <td>0</td>\n",
              "    </tr>\n",
              "    <tr>\n",
              "      <th>3</th>\n",
              "      <td>13</td>\n",
              "      <td>1</td>\n",
              "      <td>10</td>\n",
              "      <td>911</td>\n",
              "      <td>16</td>\n",
              "      <td>0</td>\n",
              "      <td>48</td>\n",
              "      <td>0</td>\n",
              "      <td>1</td>\n",
              "      <td>0</td>\n",
              "    </tr>\n",
              "    <tr>\n",
              "      <th>4</th>\n",
              "      <td>0</td>\n",
              "      <td>0</td>\n",
              "      <td>33</td>\n",
              "      <td>18</td>\n",
              "      <td>877</td>\n",
              "      <td>0</td>\n",
              "      <td>71</td>\n",
              "      <td>0</td>\n",
              "      <td>1</td>\n",
              "      <td>0</td>\n",
              "    </tr>\n",
              "    <tr>\n",
              "      <th>5</th>\n",
              "      <td>0</td>\n",
              "      <td>0</td>\n",
              "      <td>0</td>\n",
              "      <td>0</td>\n",
              "      <td>0</td>\n",
              "      <td>989</td>\n",
              "      <td>0</td>\n",
              "      <td>8</td>\n",
              "      <td>0</td>\n",
              "      <td>3</td>\n",
              "    </tr>\n",
              "    <tr>\n",
              "      <th>6</th>\n",
              "      <td>99</td>\n",
              "      <td>2</td>\n",
              "      <td>29</td>\n",
              "      <td>16</td>\n",
              "      <td>36</td>\n",
              "      <td>0</td>\n",
              "      <td>808</td>\n",
              "      <td>0</td>\n",
              "      <td>10</td>\n",
              "      <td>0</td>\n",
              "    </tr>\n",
              "    <tr>\n",
              "      <th>7</th>\n",
              "      <td>0</td>\n",
              "      <td>0</td>\n",
              "      <td>0</td>\n",
              "      <td>0</td>\n",
              "      <td>0</td>\n",
              "      <td>4</td>\n",
              "      <td>0</td>\n",
              "      <td>973</td>\n",
              "      <td>0</td>\n",
              "      <td>23</td>\n",
              "    </tr>\n",
              "    <tr>\n",
              "      <th>8</th>\n",
              "      <td>3</td>\n",
              "      <td>1</td>\n",
              "      <td>1</td>\n",
              "      <td>5</td>\n",
              "      <td>0</td>\n",
              "      <td>2</td>\n",
              "      <td>2</td>\n",
              "      <td>1</td>\n",
              "      <td>985</td>\n",
              "      <td>0</td>\n",
              "    </tr>\n",
              "    <tr>\n",
              "      <th>9</th>\n",
              "      <td>0</td>\n",
              "      <td>0</td>\n",
              "      <td>1</td>\n",
              "      <td>0</td>\n",
              "      <td>0</td>\n",
              "      <td>5</td>\n",
              "      <td>0</td>\n",
              "      <td>20</td>\n",
              "      <td>0</td>\n",
              "      <td>974</td>\n",
              "    </tr>\n",
              "  </tbody>\n",
              "</table>\n",
              "</div>"
            ],
            "text/plain": [
              "predict    0    1    2    3    4    5    6    7    8    9\n",
              "label                                                    \n",
              "0        886    1   16    9    2    1   81    0    4    0\n",
              "1          1  987    0    7    2    0    1    0    2    0\n",
              "2         17    2  905    4   32    0   40    0    0    0\n",
              "3         13    1   10  911   16    0   48    0    1    0\n",
              "4          0    0   33   18  877    0   71    0    1    0\n",
              "5          0    0    0    0    0  989    0    8    0    3\n",
              "6         99    2   29   16   36    0  808    0   10    0\n",
              "7          0    0    0    0    0    4    0  973    0   23\n",
              "8          3    1    1    5    0    2    2    1  985    0\n",
              "9          0    0    1    0    0    5    0   20    0  974"
            ]
          },
          "metadata": {
            "tags": []
          },
          "execution_count": 18
        }
      ]
    }
  ]
}